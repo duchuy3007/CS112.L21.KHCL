{
  "nbformat": 4,
  "nbformat_minor": 0,
  "metadata": {
    "colab": {
      "name": "PhanSo.ipynb",
      "provenance": [],
      "authorship_tag": "ABX9TyPNCwplW54PeQmX4IsJtcuT",
      "include_colab_link": true
    },
    "kernelspec": {
      "name": "python3",
      "display_name": "Python 3"
    },
    "language_info": {
      "name": "python"
    }
  },
  "cells": [
    {
      "cell_type": "markdown",
      "metadata": {
        "id": "view-in-github",
        "colab_type": "text"
      },
      "source": [
        "<a href=\"https://colab.research.google.com/github/thanhnhan311201/CS112.L21.KHCL/blob/main/PhanSo.ipynb\" target=\"_parent\"><img src=\"https://colab.research.google.com/assets/colab-badge.svg\" alt=\"Open In Colab\"/></a>"
      ]
    },
    {
      "cell_type": "markdown",
      "metadata": {
        "id": "flMtQ3UxAxNK"
      },
      "source": [
        "# Đề bài: Phân số\n",
        "\n",
        "\n",
        "# Abstraction\n",
        "\n",
        "\n",
        "# Pattern Recognition\n",
        "\n",
        "\n",
        "# Algorithm Designed\n",
        "\n",
        "\n",
        "# Time Complexity"
      ]
    },
    {
      "cell_type": "code",
      "metadata": {
        "id": "VdAXbH_KBO39"
      },
      "source": [
        ""
      ],
      "execution_count": null,
      "outputs": []
    }
  ]
}