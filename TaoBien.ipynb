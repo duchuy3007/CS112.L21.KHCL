{
  "nbformat": 4,
  "nbformat_minor": 0,
  "metadata": {
    "colab": {
      "name": "TaoBien.ipynb",
      "provenance": [],
      "collapsed_sections": [],
      "authorship_tag": "ABX9TyNaYc4VnfOdhqpQdyaooYJk",
      "include_colab_link": true
    },
    "kernelspec": {
      "name": "python3",
      "display_name": "Python 3"
    },
    "language_info": {
      "name": "python"
    }
  },
  "cells": [
    {
      "cell_type": "markdown",
      "metadata": {
        "id": "view-in-github",
        "colab_type": "text"
      },
      "source": [
        "<a href=\"https://colab.research.google.com/github/thanhnhan311201/CS112.L21.KHCL/blob/main/TaoBien.ipynb\" target=\"_parent\"><img src=\"https://colab.research.google.com/assets/colab-badge.svg\" alt=\"Open In Colab\"/></a>"
      ]
    },
    {
      "cell_type": "markdown",
      "metadata": {
        "id": "2K8sN2xB07Z5"
      },
      "source": [
        "# Tên bài: Tảo biển\n",
        "# Link: https://khmt.uit.edu.vn/wecode/cs112.2021/assignment/2/3\n",
        "# Đề bài: \n",
        "Tảo biển sinh sản rất nhanh khi có môi trường thuận lợi với chúng và có những loài còn tiết ra môi trường những chất độc hại.\n",
        "\n",
        "Một loại tảo nâu trong môi trường nước bị ô nhiễm nặng sinh sản theo quy luật sau:\n",
        "- Ngày đầu tiên (ngày 0) có **n** cá thể ở mức 1,\n",
        "- Ở mỗi ngày tiếp theo, mỗi cá thể mức **i** sinh ra **i** cá thể mức 1, các cá thể mới sinh sẽ sinh sôi, phát triển từ ngày hôm sau.\n",
        "- Bản thân các cá thể mức **i** phát triển thành mức **i**+1 và chu kỳ phát triển trong ngày chấm dứt.\n",
        "\n",
        "Hãy xác định sau **k** ngày trong nước biển có bao nhiêu cá thể. \n",
        "\n",
        "**Dữ liệu:** Vào từ thiết bị nhập chuẩn gồm một dòng chứa 2 số nguyên **n** và **k** (1 ≤ **n** ≤ 1000, 1 ≤ **k** ≤ 10^17).\n",
        "\n",
        "**Kết quả:** Đưa ra thiết bị xuất chuẩn một số nguyên – số lượng cá thể  tảo theo mô đun 10^9+7.\n",
        "\n",
        "# Abstraction:\n",
        "Tính n*F(2k+1) theo mô đun 10^9 +7, với hàm F(x) là hàm tính số Fibonacci.\n",
        "\n",
        "# Pattern Recognition:\n",
        "Sử dụng kĩ thuật quy hoạch động để tính fibonacci.\n",
        "\n",
        "# Algorithm Designed:\n",
        "modulo is equal 10^9+7\n",
        "\n",
        "Function Modulo_Fibonacci(k) return a value\n",
        "\n",
        "    if k is smaller or equal 2 then return 1\n",
        "\n",
        "    fp is equal to 1\n",
        "\n",
        "    f is equal to 1\n",
        "\n",
        "    loop in range from 3 to k+1, do\n",
        "        \n",
        "        fm is equal to (fp plus f) divide by modulo\n",
        "\n",
        "        fp is equal f\n",
        "\n",
        "        f is equal fm\n",
        "\n",
        "        end\n",
        "\n",
        "    end\n",
        "\n",
        "result of problem is equal to (n multiply the value of function Modulo_Fibonacci) divide by modulo\n",
        "    \n",
        "\n",
        "# Algorithm Complexity: O(n)\n"
      ]
    }
  ]
}