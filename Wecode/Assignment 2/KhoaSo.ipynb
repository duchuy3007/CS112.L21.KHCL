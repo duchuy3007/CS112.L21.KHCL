{
  "nbformat": 4,
  "nbformat_minor": 0,
  "metadata": {
    "colab": {
      "name": "KhoaSo.ipynb",
      "provenance": [],
      "collapsed_sections": [],
      "authorship_tag": "ABX9TyO6DQ13x+CVwYEES2vFfgyX",
      "include_colab_link": true
    },
    "kernelspec": {
      "name": "python394jvsc74a57bd0aee8b7b246df8f9039afb4144a1f6fd8d2ca17a180786b69acc140d282b71a49",
      "display_name": "Python 3.9.4 64-bit"
    },
    "language_info": {
      "name": "python",
      "version": "3.9.4"
    },
    "metadata": {
      "interpreter": {
        "hash": "aee8b7b246df8f9039afb4144a1f6fd8d2ca17a180786b69acc140d282b71a49"
      }
    }
  },
  "cells": [
    {
      "cell_type": "markdown",
      "metadata": {
        "id": "view-in-github",
        "colab_type": "text"
      },
      "source": [
        "<a href=\"https://colab.research.google.com/github/thanhnhan311201/CS112.L21.KHCL/blob/main/KhoaSo.ipynb\" target=\"_parent\"><img src=\"https://colab.research.google.com/assets/colab-badge.svg\" alt=\"Open In Colab\"/></a>"
      ]
    },
    {
      "cell_type": "markdown",
      "metadata": {
        "id": "SOjAu6-rZ5wR"
      },
      "source": [
        "# Tên bài: Khóa số\n",
        "# Link: https://khmt.uit.edu.vn/wecode/cs112.2021/assignment/3/9\n",
        "# Đề bài: \n",
        "\n",
        "Để tăng độ an toàn chống hiện tượng cướp ngân hàng ngày càng phổ biến người ta dùng khóa số với mã mở khóa đơn giản nhưng rất hiệu quả. Trên cửa ra vào hiển thị một xâu khá dài các ký tự số. Các chữ số có thể di chuyển đổi chổ cho nhau hoặc bị xóa. Muốn mở khóa người ta phải di chuyển các chữ số và trong trường hợp cần thiết – xóa vài chữ số để nhận được xâu lớn nhất thỏa mãn điều kiện đã cài đặt. Điều kiện này được thay đổi thường xuyên. Hôm nay điều kiện đó là “Số nhận được phải chia hết cho 3”. Số nhận được có thể bắt đầu bằng các chữ số 0. Xâu “000” sẽ lớn hơn xâu “00”.\n",
        "\n",
        "Hãy xác định khóa mở cửa.\n",
        "\n",
        "**Dữ liệu:** Vào từ thiết bị nhập chuẩn gồm một xâu ký tự số có độ dài lớn hơn 2 và không vượt quá 105.\n",
        "\n",
        "**Kết quả:** Đưa ra thiết bị xuất chuẩn xâu khóa mở cửa.\n",
        "\n",
        "# Abstraction: \n",
        "\n",
        "\n",
        "# Pattern Recognition:\n",
        "\n",
        "\n",
        "# Algorithm Designed:\n",
        "\n",
        " \n",
        "\n",
        "# Time Complexity: \n"
      ]
    },
    {
      "cell_type": "code",
      "execution_count": 1,
      "metadata": {},
      "outputs": [
        {
          "output_type": "stream",
          "name": "stdout",
          "text": [
            "510\n"
          ]
        }
      ],
      "source": [
        "def Khoaso(s):\n",
        "\tn = len(s)\n",
        "\ts.sort(reverse=True)\n",
        "\tmod = sum(s)%3\n",
        "\tpos_ = []\n",
        "\tif(mod!=0):\n",
        "\t\tfor i  in range(n-1,-1,-1):\n",
        "\t\t\tif s[i]%3 == mod:\n",
        "\t\t\t\tdel s[i]\n",
        "\t\t\t\tbreak\n",
        "\t\t\tif s[i]%3 != 0:\n",
        "\t\t\t\tpos_.append(i)\n",
        "\n",
        "\tmod = sum(s)%3\n",
        "\tif mod !=0:\n",
        "\t\tdel s[pos_[0]]\n",
        "\t\tdel s[pos_[1]]\n",
        "\n",
        "\ts = [str(i) for i in s]\n",
        "\ts = \"\".join(s)\n",
        "\treturn s\n",
        "\n",
        "s = list(map(int,list(input().strip())))\n",
        "print(Khoaso(s))"
      ]
    }
  ]
}