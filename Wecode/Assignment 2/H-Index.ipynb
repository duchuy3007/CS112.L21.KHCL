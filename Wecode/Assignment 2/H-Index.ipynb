{
  "nbformat": 4,
  "nbformat_minor": 0,
  "metadata": {
    "colab": {
      "name": "H-Index.ipynb",
      "provenance": [],
      "collapsed_sections": [],
      "authorship_tag": "ABX9TyO6DQ13x+CVwYEES2vFfgyX",
      "include_colab_link": true
    },
    "kernelspec": {
      "name": "python394jvsc74a57bd0aee8b7b246df8f9039afb4144a1f6fd8d2ca17a180786b69acc140d282b71a49",
      "display_name": "Python 3.9.4 64-bit"
    },
    "language_info": {
      "name": "python",
      "version": "3.9.4"
    },
    "metadata": {
      "interpreter": {
        "hash": "aee8b7b246df8f9039afb4144a1f6fd8d2ca17a180786b69acc140d282b71a49"
      }
    }
  },
  "cells": [
    {
      "cell_type": "markdown",
      "metadata": {
        "id": "view-in-github",
        "colab_type": "text"
      },
      "source": [
        "<a href=\"https://colab.research.google.com/github/thanhnhan311201/CS112.L21.KHCL/blob/main/H_Index.ipynb\" target=\"_parent\"><img src=\"https://colab.research.google.com/assets/colab-badge.svg\" alt=\"Open In Colab\"/></a>"
      ]
    },
    {
      "cell_type": "markdown",
      "metadata": {
        "id": "Rk-SnINeZcxm"
      },
      "source": [
        "# Tên bài: H-Index\n",
        "# Link: https://khmt.uit.edu.vn/wecode/cs112.2021/assignment/3/4\n",
        "# Đề bài: \n",
        "\n",
        "Làm thế nào để đánh giá sự thành công của một nhà khoa học?  Dựa vào số bài báo được công bố hay dựa vào số lần một bài báo được trích dẫn tới ở công trình của những người khác? Cả hai tham số đó đều quan trọng.\n",
        "\n",
        "Một bài báo có điểm số trích dẫn là ***c*** nếu nó được trích dẫn tới ***c*** lần trong các công trình của những nhà khoa học khác. Một trong số các cách đánh giá sự thành công của một nhà khoa học là tính chỉ số ảnh hưởng ***H_Index*** dựa trên sự kết hợp giữa số lượng bài báo và chỉ số trích dẫn của các bài báo đó.\n",
        "\n",
        "Chỉ số ***H_Index*** của một nhà khoa học bằng ***k*** lớn nhất nếu người đó có ***k*** bài báo, mỗi bài có điểm số trích dẫn không nhỏ hơn ***k***. Ví dụ, một người có 10 bài báo, mỗi bài báo được trích dẫn không dưới 10 lần thì ***H_Index*** của người đó ít nhất là bằng 10.\n",
        "\n",
        "Một người có ***n*** bài báo, bài báo thứ ***i*** có điểm trích dẫn là ***ci***, ***i*** = 1 ÷ ***n***. Hãy xác định ***H_Index*** của người đó.\n",
        "\n",
        "**Dữ liệu:** Vào từ thiết bị nhập chuẩn:\n",
        "\n",
        "- Dòng đầu tiên chứa một số nguyên ***n*** (1 ≤ ***n*** ≤ 5×105),\n",
        "- Dòng thứ 2 chứa ***n*** số nguyên ***c1***, ***c2***, . . ., ***cn*** (0 ≤ ***ci*** ≤ 106, ***i*** = 1 ÷ ***n***).\n",
        "\n",
        "**Kết quả:** Đưa ra thiết bị xuất chuẩn một số nguyên – ***H_Index*** tìm được.\n",
        "\n",
        "# Abstraction:\n",
        "Tìm đoạn con có giá trị lớn nhất trong mảng, nếu có nhiều đoạn con thì trả về đoạn con có vị trí bắt đầu nhỏ nhất.\n",
        "\n",
        "# Pattern Recognition:\n",
        "\n",
        "\n",
        "# Algorithm Designed:\n",
        "\n",
        "\n",
        "     \n",
        "\n",
        "# Time Complexity: \n"
      ]
    },
    {
      "cell_type": "code",
      "execution_count": 1,
      "metadata": {},
      "outputs": [
        {
          "output_type": "stream",
          "name": "stdout",
          "text": [
            "4\n"
          ]
        }
      ],
      "source": [
        "def hIndex(c, n):\n",
        "    c.sort(reverse = True)\n",
        "    hindex = 0\n",
        "    for i in range(n):\n",
        "    \tif c[i] >= i+1:\n",
        "    \t\thindex+=1\n",
        "    return hindex\n",
        "\n",
        "n = int(input()) \n",
        "c = list(map(int,input().split()))\n",
        "print(hIndex(c,n))"
      ]
    }
  ]
}