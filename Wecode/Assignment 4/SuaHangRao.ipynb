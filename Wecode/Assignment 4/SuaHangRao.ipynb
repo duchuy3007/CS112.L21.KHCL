{
  "nbformat": 4,
  "nbformat_minor": 0,
  "metadata": {
    "colab": {
      "name": "Sửa Hàng Rào.ipynb",
      "provenance": [],
      "collapsed_sections": [],
      "authorship_tag": "ABX9TyM9EkSvn2KAiV9w3mST1Sln",
      "include_colab_link": true
    },
    "kernelspec": {
      "name": "python3",
      "display_name": "Python 3"
    },
    "language_info": {
      "name": "python"
    }
  },
  "cells": [
    {
      "cell_type": "markdown",
      "metadata": {
        "id": "view-in-github",
        "colab_type": "text"
      },
      "source": [
        "<a href=\"https://colab.research.google.com/github/thanhnhan311201/CS112.L21.KHCL/blob/main/Wecode/Assignment%204/SuaHangRao.ipynb\" target=\"_parent\"><img src=\"https://colab.research.google.com/assets/colab-badge.svg\" alt=\"Open In Colab\"/></a>"
      ]
    },
    {
      "cell_type": "markdown",
      "metadata": {
        "id": "zLHIsosqPtn5"
      },
      "source": [
        "# Đề bài: Sửa Hàng Rào\n",
        "\n",
        "![SuaHangRao](https://github.com/thanhnhan311201/CS112.L21.KHCL/blob/main/Wecode/Assignment%204/SuaHangRao.png?raw=true)\n",
        "\n",
        "# Abstraction\n",
        "* Ta có thể phát biểu lại bài toán như sau: \n",
        "    - Cho 2 số nguyên **n** (1 ≤ **n** ≤ 10^5), **m**  (1 ≤ **m** ≤ 10^5)\n",
        "    - 2 dãy số **a**1, **a**2, . . ., **an** (1 ≤ **ai** ≤ 10^8, **i** = 1 ÷ **n**), và **b**1, **b**2, . . ., **bm** (1 ≤ **bj** ≤ 108, **j** = 1÷ **m**)\n",
        "\n",
        "    - Tìm và in ra **h**, **k** cặp (**i, j**) sao cho các cặp (**i, j**) tăng dần và phần tử nhỏ nhất của dãy a (**h**) sau khi cộng dồn **bj** cho **ai** là lớn nhất.\n",
        "    - Nếu có nhiều cách chọn, hãy chọn cách có **j** là nhỏ nhất.\n",
        "\n",
        "# Pattern Recconigtion\n",
        "* Dạng bài toán: Tối ưu hoá.\n",
        "* Hướng tiếp cận: Tìm kiếm nhị phân.\n",
        "* Đặc điểm nhận biết: Tìm một số nguyên.\n",
        "\n",
        "# Ý tưởng:\n",
        " - Ta cần 1 hàm **Try** kiểm tra liệu với 1 số **h** nào đó, để từ dãy **a** và **b** có thể làm cho dãy **a** đạt **max_height** = **h** được hay không. Nếu có trả về **True**, nếu không trả về **False**.\n",
        " - Tiếp theo ta dùng thuật toán tìm kiếm nhị phân để chọn ra các số h để đưa vào hàm **Try** và thử.\n",
        "\n",
        "# Algorithm designed\n",
        "* Bước 1: Khởi tạo các giá trị cho vòng lặp tìm kiếm nhị phân\n",
        "    - **left** = 0\n",
        "    - **right** = 2*10^8 + 1\n",
        "* Bước 2: Lặp cho đến khi **left < right** \n",
        "  - **mid = (left + right)//2**\n",
        "  - Nếu **Try(mid) == True** thì cập nhật **left = mid + 1** để tìm xem còn giá trị chiều cao **h** tốt hơn không\n",
        "  - ngược lại: **right = mid** để giới hạn phạm vi tìm kiếm\n",
        "* Bước 3: Gán **h = left - 1** (giá trị mà hàm **Try** trả về **True** cuối cùng sau khi duyệt tìm kiếm nhị phân - giá trị chiều cao lớn nhất tìm được)\n",
        "* Bước 4: Xuất kết quả với chiều cao vừa **h** tìm được\n",
        "\n",
        "# Time complexity\n",
        "* Trong trường hợp xấu nhất độ phức tạp thời gian là **O(M.log(M))** với **M** là **Max(n,m)**."
      ]
    },
    {
      "cell_type": "code",
      "metadata": {
        "colab": {
          "base_uri": "https://localhost:8080/"
        },
        "id": "NuwCmAgoM1Aa",
        "outputId": "3a046e07-8f64-4941-8ba1-17fc526ce100"
      },
      "source": [
        "# Hàm Try dùng để kiểm tra từ dãy a và b có thể đạt tới giá trị h hay không\n",
        "def Try(n, m ,a ,b , h):\n",
        "    # Giữ lại các phần tử nhỏ hơn h của dãy a\n",
        "\tta = [x for x in a if x < h]\n",
        "\tn_ta = len(ta)\n",
        "\ti=0\n",
        "    # Nếu không có phần tử nào nhỏ hơn h thì trả về True\n",
        "\tif n_ta == 0:\n",
        "\t\treturn True\n",
        "    # Duyệt vòng lặp\n",
        "\tfor bj in b:\n",
        "\t\tif ta[i] + bj >= h: # Nếu các phần tử của a sau khi cộng với các phần tử của b >= h thì tăng biến đếm i lên 1\n",
        "\t\t\ti += 1\n",
        "\t\tif i == n_ta:       # Nếu tất cả phần tử nhỏ hơn  h của a đều đã lớn hơn hoặc bằng h thì trả về True\n",
        "\t\t\treturn True\n",
        "\treturn False            # Ngược lại sau khi đã duyệt hết các phần tử của b thì Trả về False\n",
        "\n",
        "# Hàm in kết quả sau với chiều cao h, cách duyệt tương tự như hàm Try\n",
        "def PrintResult(n, m ,a ,b , h):\n",
        "\tta = [ x for x in range(n) if a[x] < h]\n",
        "\tn_ta = len(ta)\n",
        "\ti=0\n",
        "\tj=0\t\n",
        "\ttemp_result= ''\n",
        "\tif n_ta == 0:\n",
        "\t\treturn '',0\n",
        "\tfor j in range(m):\n",
        "\t\tif a[ta[i]] + b[j] >= h:\n",
        "\t\t\ttemp_result += str(ta[i]+1) +' '+ str(j+1) + '\\n'\n",
        "\t\t\ti += 1\n",
        "\t\tif i == n_ta:\n",
        "\t\t\treturn temp_result,n_ta\n",
        "\n",
        "# hàm main\n",
        "def main():\n",
        "    # Nhập các giá trị đầu vào\n",
        "\tn = int(input())\n",
        "\ta = [int(i) for i in input().split()]\n",
        "\tm = int(input())\n",
        "\tb = [int(i) for i in input().split()]\n",
        "    # Khởi tạo các giá trị ban đầu\n",
        "\tleft = 0\n",
        "\tright = 200000001\n",
        "\th = 0\n",
        "\tk = 0\n",
        "\tkab = 0\n",
        "    # Bắt đầu vòng lặp tìm kiếm nhị phân\n",
        "\twhile(left < right):\n",
        "\t\tmid = (left+right)//2\n",
        "\t\ttry_ = Try(n,m,a,b,mid)\n",
        "\t\tif try_==True:          # Nếu try_ trả về True thì cập nhật left bằng mid + 1 để tìm xem có số h tiếp theo tốt hơn không\n",
        "\t\t\tleft = mid + 1\n",
        "\t\telse:\n",
        "\t\t\tright = mid         # Ngược lại cập nhật right = mid để thu hẹp phạm vi tìm kiếm\n",
        "\th = left - 1                # Chiều cao lớn nhất tìm được\n",
        "    # Xuất kết quả ra màn hình\n",
        "\tkab, k = PrintResult(n,m,a,b,h)\n",
        "\tprint(h,k)\n",
        "\tprint(kab)\n",
        " \n",
        "main()"
      ],
      "execution_count": 1,
      "outputs": [
        {
          "output_type": "stream",
          "text": [
            "6\n",
            "2 5 4 1 7 5\n",
            "7\n",
            "2 3 1 3 2 4 6\n",
            "5 3\n",
            "1 2\n",
            "3 3\n",
            "4 6\n",
            "\n"
          ],
          "name": "stdout"
        }
      ]
    }
  ]
}