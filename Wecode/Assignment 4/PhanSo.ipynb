{
 "cells": [
  {
   "cell_type": "markdown",
   "metadata": {
    "colab_type": "text",
    "id": "view-in-github"
   },
   "source": [
    "<a href=\"https://colab.research.google.com/github/thanhnhan311201/CS112.L21.KHCL/blob/main/PhanSo.ipynb\" target=\"_parent\"><img src=\"https://colab.research.google.com/assets/colab-badge.svg\" alt=\"Open In Colab\"/></a>"
   ]
  },
  {
   "cell_type": "markdown",
   "metadata": {
    "id": "flMtQ3UxAxNK"
   },
   "source": [
    "# Đề bài: Phân số\n",
    "![PhanSo](https://github.com/thanhnhan311201/CS112.L21.KHCL/blob/main/Wecode/Assignment%204/PhanSo.png?raw=true)\n",
    "\n",
    "# Abstraction:\n",
    "- Cho 2 số a/b, c/d (a/b != c/d, a và b không thể chia cho gcd(a,b), c và d không thể chia cho gcd(c,d)).\n",
    "- Mỗi steps a+=1, b+=1; sau đó a/gcd(a,b), b/gcd(a,b).\n",
    "- Xác định số steps sao cho a/b == c/d, nếu a/b > c/d xuất ra 0.\n",
    "\n",
    "# Pattern Recognition:\n",
    "- Tính ước chung lớn nhất.\n",
    "\n",
    "# Algorithm Designed:\n",
    "\n",
    "Function simplifyFraction(a,b) return a,b\n",
    "\n",
    "        temp = gcd(a,b)\n",
    "\n",
    "        a = a/temp\n",
    "\n",
    "        b = b/temp\n",
    "\n",
    "        end\n",
    "\n",
    "stemp = 0\n",
    "\n",
    "loop forever\n",
    "\n",
    "        a += 1\n",
    "\n",
    "        b += 1\n",
    "\n",
    "        a,b = simplifyFraction(a,b)\n",
    "\n",
    "        steps += 1\n",
    "\n",
    "        if a/b >= c/d\n",
    "            end\n",
    "\n",
    "if a/b > c/d\n",
    "\n",
    "        steps = 0\n",
    "\n",
    "print steps\n",
    "\n",
    "# Time Complexity: O(log n)"
   ]
  },
  {
   "source": [
    "# Code"
   ],
   "cell_type": "markdown",
   "metadata": {}
  }
 ],
 "metadata": {
  "colab": {
   "authorship_tag": "ABX9TyPNCwplW54PeQmX4IsJtcuT",
   "include_colab_link": true,
   "name": "PhanSo.ipynb",
   "provenance": []
  },
  "kernelspec": {
   "display_name": "Python 3",
   "language": "python",
   "name": "python3"
  },
  "language_info": {
   "codemirror_mode": {
    "name": "ipython",
    "version": 3
   },
   "file_extension": ".py",
   "mimetype": "text/x-python",
   "name": "python",
   "nbconvert_exporter": "python",
   "pygments_lexer": "ipython3",
   "version": "3.8.5"
  }
 },
 "nbformat": 4,
 "nbformat_minor": 1
}