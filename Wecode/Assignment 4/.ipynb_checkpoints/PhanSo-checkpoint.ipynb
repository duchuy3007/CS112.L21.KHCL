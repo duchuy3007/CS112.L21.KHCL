{
 "cells": [
  {
   "cell_type": "markdown",
   "metadata": {
    "colab_type": "text",
    "id": "view-in-github"
   },
   "source": [
    "<a href=\"https://colab.research.google.com/github/thanhnhan311201/CS112.L21.KHCL/blob/main/PhanSo.ipynb\" target=\"_parent\"><img src=\"https://colab.research.google.com/assets/colab-badge.svg\" alt=\"Open In Colab\"/></a>"
   ]
  },
  {
   "cell_type": "markdown",
   "metadata": {
    "id": "flMtQ3UxAxNK"
   },
   "source": [
    "# Đề bài: Phân số\n",
    "![PhanSo](https://github.com/thanhnhan311201/CS112.L21.KHCL/blob/main/Wecode/Assignment%204/PhanSo.png?raw=true)\n",
    "\n",
    "# Abstraction\n",
    "\n",
    "\n",
    "# Pattern Recognition\n",
    "\n",
    "\n",
    "# Algorithm Designed\n",
    "\n",
    "\n",
    "# Time Complexity"
   ]
  },
  {
   "cell_type": "code",
   "execution_count": null,
   "metadata": {
    "id": "VdAXbH_KBO39"
   },
   "outputs": [],
   "source": []
  }
 ],
 "metadata": {
  "colab": {
   "authorship_tag": "ABX9TyPNCwplW54PeQmX4IsJtcuT",
   "include_colab_link": true,
   "name": "PhanSo.ipynb",
   "provenance": []
  },
  "kernelspec": {
   "display_name": "Python 3",
   "language": "python",
   "name": "python3"
  },
  "language_info": {
   "codemirror_mode": {
    "name": "ipython",
    "version": 3
   },
   "file_extension": ".py",
   "mimetype": "text/x-python",
   "name": "python",
   "nbconvert_exporter": "python",
   "pygments_lexer": "ipython3",
   "version": "3.8.5"
  }
 },
 "nbformat": 4,
 "nbformat_minor": 1
}