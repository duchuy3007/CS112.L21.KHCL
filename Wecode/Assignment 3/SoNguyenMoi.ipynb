{
  "nbformat": 4,
  "nbformat_minor": 0,
  "metadata": {
    "colab": {
      "name": "SoNguyenMoi.ipynb",
      "provenance": [],
      "collapsed_sections": [],
      "authorship_tag": "ABX9TyPaAdoDQ8p4bxDsRjg0Oo3o",
      "include_colab_link": true
    },
    "kernelspec": {
      "name": "python3",
      "display_name": "Python 3"
    },
    "language_info": {
      "name": "python"
    }
  },
  "cells": [
    {
      "cell_type": "markdown",
      "metadata": {
        "id": "view-in-github",
        "colab_type": "text"
      },
      "source": [
        "<a href=\"https://colab.research.google.com/github/thanhnhan311201/CS112.L21.KHCL/blob/main/Wecode/Assignment%203/SoNguyenMoi.ipynb\" target=\"_parent\"><img src=\"https://colab.research.google.com/assets/colab-badge.svg\" alt=\"Open In Colab\"/></a>"
      ]
    },
    {
      "cell_type": "markdown",
      "metadata": {
        "id": "faH-dMXmHMdi"
      },
      "source": [
        "# Đề bài: Số nguyên mới\n",
        "\n",
        "# Abstraction: \n",
        "* Cho số nguyên dương **n** có không quá 100 chữ số. Hãy xác định số nguyên lớn nhất **m** chia hết cho 3 và khác **n** ở đúng một chữ số.\n",
        "* Dữ liệu: Vào từ thiết bị nhập chuẩn gồm một dòng chứa số nguyên n có không quá 100 chữ số và không chứa các số 0 không có nghĩa.\n",
        "* Kết quả: Đưa ra thiết bị xuất chuẩn số nguyên m tìm được.\n",
        "\n",
        "# Pattern Recconigtion\n",
        "* Hướng tiếp cận: Back tracking (Quay lui)\n",
        "* Kỹ thuật áp dụng: duyệt mảng tuần tự\n",
        "* Đặc điểm nhận dạng: \"khác **n** ở đúng một chữ số\"\n",
        "\n",
        "# Algorithm designed\n",
        "* Nhập vào **n** và chuyển thành xâu ký tự **str_n**\n",
        "* B1: Bắt đầu vòng lặp, duyệt từ đầu đến cuối xâu **str_n**\n",
        "  - Nếu phần tử **str_n[i] < 9** thì thử thay **str_n[i]** với các số từ 9 đến **str_n[i] + 1**\n",
        "  - Với mỗi số được thay vào, kiểm tra xem số nguyên mới tạo được từ **str_n** có chia hết cho 3 hay không\n",
        "  - Nếu có, kết thúc vòng lặp và trả về số nguyên mới này, ngược lại giữ nguyên phần tử **str[i]** lúc đầu và tiếp tục vòng lặp\n",
        "* B2: Bắt đầu vòng lặp, duyệt ngược từ cuối đến đầu xâu str_n\n",
        " - Nếu phần tử **str[i] >= 0** thì thử thay **str_n[i]** với các số từ **str_n[i] - 1** đến 0\n",
        " - Với mỗi số được thay vào, kiểm tra xem số nguyên mới tạo được từ **str_n** có chia hết cho 3 hay không\n",
        " - Nếu có, kết thúc vòng lặp và trả về số nguyên mới này, ngược lại giữ nguyên phần tử **str[i]** lúc đầu và tiếp tục vòng lặp\n",
        "\n",
        "# Time complexity\n",
        "* Trong trường hợp xấu nhất độ phức tạp thời gian là **O(a)** với a là số lượng chữ số của số **n**\n",
        "\n",
        "\n",
        "\n",
        "\n"
      ]
    },
    {
      "cell_type": "code",
      "metadata": {
        "id": "EeVn63eMH1_S",
        "colab": {
          "base_uri": "https://localhost:8080/"
        },
        "outputId": "323e06e0-4eb2-4a33-d3a8-2daabf53f684"
      },
      "source": [
        "def SoNguyenMoi(str_n):                   \n",
        "\tstr_new = list(str_n)                   # tạo một list xâu ký tự giống với str_n\n",
        "\tfor i in range(len(str_n)):             # Bắt đầu vòng lặp từ đầu đến cuối xâu k1y tự\n",
        "\t\tmark = int(str_new[i])                # gán biến mark đánh dấu phần tử đang xét\n",
        "\t\tif mark<9:                            # nếu phần tử này nhỏ hơn 9\n",
        "\t\t\tfor j in range(9,mark,-1):          # Bắt đầu vòng lặp\n",
        "\t\t\t\tstr_new[i] = str(j)               # thử các số từ 9 đến mark+1\n",
        "\t\t\t\tresult = int(''.join(str_new))    # result là số nguyên mới được tạo ra\n",
        "\t\t\t\tif result % 3 == 0:               # nếu chia hết cho 3 thì trả về result và kết thúc vòng lặp\n",
        "\t\t\t\t\treturn result\n",
        "\t\t\t\tstr_new[i] = str(mark)            # ngược lại giữ nguyên phần tử được đánh dấu và tiếp tục vòng lặp\n",
        "\n",
        "\tfor i in range(len(str_n)-1,-1,-1):     # Tương tự với vòng lặp trên\n",
        "\t\tmark = int(str_new[i])\n",
        "\t\tif mark>0:\n",
        "\t\t\tfor j in range(mark-1,-1,-1):       # Duyệt ngược từ cuối mảng đến đầu mảng\n",
        "\t\t\t\tstr_new[i] = str(j)               # thử các số từ mark-1 đến 0\n",
        "\t\t\t\tresult = int(''.join(str_new))\n",
        "\t\t\t\tif result % 3 == 0:               # nếu số mới tạo được chia hết cho 3 thì trả về kết quả và kết thúc vòng lặp\n",
        "\t\t\t\t\treturn result\n",
        "\t\t\t\tstr_new[i] = str(mark)            # ngược lại giữ nguyên phần tử được đánh dấu và tiếp tục vòng lặp\n",
        "\n",
        "str_n = input()                           \n",
        "print(SoNguyenMoi(str_n))"
      ],
      "execution_count": 5,
      "outputs": [
        {
          "output_type": "stream",
          "text": [
            "988\n",
            "987\n"
          ],
          "name": "stdout"
        }
      ]
    }
  ]
}