{
  "nbformat": 4,
  "nbformat_minor": 0,
  "metadata": {
    "colab": {
      "name": "DoiMoi.ipynb",
      "provenance": [],
      "collapsed_sections": [],
      "authorship_tag": "ABX9TyOUzfBv/smLANlVc+ezWMTM",
      "include_colab_link": true
    },
    "kernelspec": {
      "name": "python3",
      "display_name": "Python 3"
    },
    "language_info": {
      "name": "python"
    }
  },
  "cells": [
    {
      "cell_type": "markdown",
      "metadata": {
        "id": "view-in-github",
        "colab_type": "text"
      },
      "source": [
        "<a href=\"https://colab.research.google.com/github/thanhnhan311201/CS112.L21.KHCL/blob/main/Wecode/Assignment%203/DoiMoi.ipynb\" target=\"_parent\"><img src=\"https://colab.research.google.com/assets/colab-badge.svg\" alt=\"Open In Colab\"/></a>"
      ]
    },
    {
      "cell_type": "markdown",
      "metadata": {
        "id": "loT7UIqkfvv5"
      },
      "source": [
        "# Đề bài: Đổi mới\n",
        "* Tóm tắt đề bài: Thành phố dùng 2 đội để chặt n cây xanh. Đội 1 chặt được **a** cây mỗi ngày và nghỉ vào các ngày **k, 2k, 3k**... Đội 2 chặt được **b** cây mỗi ngày và nghỉ vào các ngày **m, 2m, 3m**... Tìm số ngày mà 2 đội chặt hết **n** cây biết rằng cả 2 đội bắt đầu làm việc cùng 1 ngày và làm việc song song với nhau. \n",
        "\n",
        "# Abstraction\n",
        "* Phân tích bài toán\n",
        "  - Gọi **x** là số ngày cần để 2 đội chặt hết **n** cây xanh\n",
        "  - Ta có **x/k** là số ngày nghỉ của đội 1, **x/m** là số ngày nghỉ của đội 2\n",
        "  - Số ngày làm việc của đội 1 và đội 2 trong **x** ngày là **x - x/k** và **x - x/m**\n",
        "  - Số cây đội 1 và đội 2 lần lượt chặt được trong **x** ngày là **a(x - x/k)** và **b(x - x/m)**\n",
        "  - Gọi **S** là tổng số cây 2 đội chặt được trong **x** ngày: **S = a(x - x/k) + b(x - x/m)**\n",
        "  - Như vậy có thể thấy trong x ngày số cây 2 đội cần phải chặt lớn hơn hoặc bằng **n** cây: **a(x - x/k) + b(x - x/m) ≥ n**  hay  **S ≥ n** \n",
        "\n",
        "* Từ phân tích bài toán trên ta có thể phát biểu lại bài toán như sau:\n",
        "  - Tìm x nhỏ nhất để **a(x - x/k) + b(x - x/m) ≥ n**\n",
        "  - Với **1 ≤ a, b ≤ 10^9; 2 ≤ k, m ≤ 10^18, 1 ≤ n ≤ 10^18**\n",
        "\n",
        "# Pattern Recconigtion\n",
        "* Dạng bài toán: Tối ưu hoá\n",
        "* Hướng tiếp cận: Greedy (tham lam)\n",
        "* Đặc điểm nhận biết: \"Tìm x nhỏ nhất để\"\n",
        "\n",
        "# Algorithm designed\n",
        "* Bước 1: Ước tính x ngày 2 đội làm việc liên tục để chặt hết n cây: **x = pre + n/(a+b)**; pre là số ngày ước đã ước tính trước đó (khởi tạo **pre=0**)\n",
        "* Bước 2: Trong x ngày này tìm \n",
        "  - **nk** là số ngày nghỉ của đội 1: **nk = x/k**\n",
        "  - **nm** là số ngày nghỉ của đội 2: **nm = x/m**\n",
        "  - **x - (nk + nm)** là số ngày 2 đội làm việc liên tục\n",
        "  - tìm **n1** là số cây còn lại sau **x** ngày: **n1 = n - (nk*.b+nm.*a) - (x-(nk+nm))*(a+b)**\n",
        "* Bước 3: Nếu **n1 ≤ 0** thì kết thúc thuật toán và trả về **x**\n",
        "* Bước 4: Lặp lại Bước 1 với **n = n1** cây và **pre=x**\n",
        "\n",
        "# Time complexity\n",
        "* Trong trường hợp xấu nhất độ phức tạp thời gian là **O(log(n))** với n là số lượng cây cần phải chặt\n",
        "\n",
        "\n",
        "\n",
        "\n"
      ]
    },
    {
      "cell_type": "markdown",
      "metadata": {
        "id": "qMA5yZNYg_2M"
      },
      "source": [
        "# Code"
      ]
    },
    {
      "cell_type": "code",
      "metadata": {
        "colab": {
          "base_uri": "https://localhost:8080/"
        },
        "id": "zOtFhNYJhCsz",
        "outputId": "306c8d28-3683-4ec7-f4ed-092d1a4f5d97"
      },
      "source": [
        "from math import ceil\n",
        "def find(a,k,b,m,n,n1,pre=0):\n",
        "\tx = pre + ceil(n1/(a+b))\n",
        "\tnk = x//k\n",
        "\tnm = x//m\n",
        "\tn1 = n - (nk*b+nm*a) - (x-(nk+nm))*(a+b)\n",
        "\tif n1>0:\n",
        "\t\treturn find(a,k,b,m,n,n1,x)\n",
        "\treturn x\n",
        "\n",
        "a,k,b,m,n = list(map(int,input().strip().split()))\n",
        "print(find(a,k,b,m,n,n))"
      ],
      "execution_count": null,
      "outputs": [
        {
          "output_type": "stream",
          "text": [
            "2 4 3 3 25\n",
            "7\n"
          ],
          "name": "stdout"
        }
      ]
    }
  ]
}