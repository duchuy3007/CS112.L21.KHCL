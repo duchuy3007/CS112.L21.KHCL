{
  "nbformat": 4,
  "nbformat_minor": 0,
  "metadata": {
    "colab": {
      "name": "BOT.ipynb",
      "provenance": [],
      "collapsed_sections": [],
      "authorship_tag": "ABX9TyOOp6X8+AcMm2emWfmwTEYG",
      "include_colab_link": true
    },
    "kernelspec": {
      "name": "python394jvsc74a57bd0aee8b7b246df8f9039afb4144a1f6fd8d2ca17a180786b69acc140d282b71a49",
      "display_name": "Python 3.9.4 64-bit"
    },
    "language_info": {
      "name": "python",
      "version": "3.9.4"
    },
    "metadata": {
      "interpreter": {
        "hash": "aee8b7b246df8f9039afb4144a1f6fd8d2ca17a180786b69acc140d282b71a49"
      }
    }
  },
  "cells": [
    {
      "cell_type": "markdown",
      "metadata": {
        "id": "view-in-github",
        "colab_type": "text"
      },
      "source": [
        "<a href=\"https://colab.research.google.com/github/thanhnhan311201/CS112.L21.KHCL/blob/main/BOT.ipynb\" target=\"_parent\"><img src=\"https://colab.research.google.com/assets/colab-badge.svg\" alt=\"Open In Colab\"/></a>"
      ]
    },
    {
      "cell_type": "markdown",
      "metadata": {
        "id": "jP0lhxAy4rI9"
      },
      "source": [
        "# Tên bài: BOT\n",
        "# Link: https://khmt.uit.edu.vn/wecode/cs112.2021/assignment/2/1\n",
        "# Đề bài: \n",
        "\n",
        "**BOT** (*Built-Operation-Transfer*, có nghĩa: Xây dựng-Vận hành-Chuyển giao) là hình thức Chính phủ kêu gọi các công ty bỏ vốn xây dựng trước (*Built*) thông qua đấu thầu, sau đó khai thác vận hành một thời gian (*Operation*) và sau cùng là chuyển giao (*Transfer*) lại cho nhà nước sở tại.\n",
        "\n",
        "Đường cao tốc xuyên quốc gia được xây dựng theo hình thức BOT. Công ty Đa quốc gia *Modern Highway* trúng thầu, chia toàn bộ con đường thành **n** đoạn. Theo tính toán của Công ty sau khi chuyển giao con đường cho chính phủ sở tại quản lý thì lãi thu được ở đoạn đường thứ **i** là **ai**, **ai** có thể dương, âm hoặc bằng 0, tức là với từng đoạn con có thể lãi, lỗ hoặc hòa vốn. Từng nhóm các đoạn đường liên tiếp nhau (gọi tắt là khoảng) được chia cho các công ty con thực hiện. Công ty con *ASEAM Highway* hiện đang có trụ sở ở nước sở tại được quyền chọn trước khoảng tùy ý (có thể là cả con đường).\n",
        "\n",
        "Dĩ nhiên Ban Giám đốc *ASEAM Highway* muốn chọn khoảng bắt đầu từ đoạn **p** đến hết đoạn **q** mang lại lợi nhuận cao nhất hoặc lỗ ít nhất nếu không có khoảng nào cho lãi.\n",
        "\n",
        "Hãy chỉ ra khoảng cần chọn và lãi thu được. Nếu có nhiều cách chọn thì chỉ ra cách chọn có **p** nhỏ nhất.\n",
        "\n",
        "**Dữ liệu:** Vào từ thiết bị nhập chuẩn:\n",
        "\n",
        "- Dòng đầu tiên chứa số nguyên **n** (1 ≤ **n** ≤ 106),\n",
        "- Dòng thứ 2 chứa **n** số nguyên **a1**, **a2**, . . ., **an** (0 ≤ |**ai**| ≤ 109, **i** = 1 ÷ **n**).\n",
        "\n",
        "**Kết quả:** Đưa ra thiết bị xuất chuẩn trên một dòng 2 số nguyên **p**, **q** và lãi thu được.\n",
        "\n",
        "# Abstraction:\n",
        "Tìm đoạn con có giá trị lớn nhất trong mảng, nếu có nhiều đoạn con thì trả về đoạn con có vị trí bắt đầu nhỏ nhất.\n",
        "\n",
        "# Pattern Recognition:\n",
        "Đây là bài toán tìm mảng con liên tục có tổng lớn nhất, có vị trí bắt đầu là p và vị trí kết thúc là q sao cho có tổng là lớn nhất (lãi cao nhất hoặc lỗ thấp nhất).\n",
        "\n",
        "# Algorithm Designed:\n",
        "Function max_subarray(numbers) return best_sum, best_start plus 1, best_end plus 1\n",
        "\n",
        "    best_sum is equal to -10^9\n",
        "    current_sum is equal to 0\n",
        "\n",
        "    best_start is equal to 0\n",
        "\n",
        "    best_end is equal to 0\n",
        "\n",
        "    current_start is equal to 0\n",
        "\n",
        "    loop do\n",
        "\n",
        "        if (current_sum plus x) is smaller than x, then\n",
        "            current_sum is equal to x\n",
        "\n",
        "            current_start is equal to current_end\n",
        "\n",
        "        else\n",
        "\n",
        "            current_sum is equal to (current_sum plus x)\n",
        "\n",
        "        if best_sum is smaller than current_sum, then\n",
        "\n",
        "            best_sum is equal to current_sum\n",
        "\n",
        "            best_start is equal to current_start\n",
        "\n",
        "            best_end is equal to current_end\n",
        "\n",
        "        end\n",
        "        \n",
        "    end            \n",
        "\n",
        "# Time Complexity: O(n)\n"
      ]
    },
    {
      "cell_type": "code",
      "execution_count": 2,
      "metadata": {},
      "outputs": [
        {
          "output_type": "stream",
          "name": "stdout",
          "text": [
            "5 15 12\n"
          ]
        }
      ],
      "source": [
        "def max_subarray(numbers):\n",
        "    best_sum = -(10**9)\n",
        "    current_sum = 0\n",
        "    best_start = best_end = 0\n",
        "    current_start = 0\n",
        "    for current_end, x in enumerate(numbers):\n",
        "    \tif current_sum + x < x:\n",
        "    \t\tcurrent_sum = x\n",
        "    \t\tcurrent_start = current_end\n",
        "    \telse:\n",
        "    \t\tcurrent_sum += x\n",
        "    \tif best_sum < current_sum:\n",
        "    \t\tbest_sum = current_sum\n",
        "    \t\tbest_start = current_start\n",
        "    \t\tbest_end = current_end\n",
        "    return best_sum, best_start+1, best_end+1\n",
        "    \n",
        "n = int(input())\n",
        "a = list(map(int,input().split()))\n",
        "rs = max_subarray(a)\n",
        "print(rs[1],rs[2],rs[0])"
      ]
    }
  ]
}