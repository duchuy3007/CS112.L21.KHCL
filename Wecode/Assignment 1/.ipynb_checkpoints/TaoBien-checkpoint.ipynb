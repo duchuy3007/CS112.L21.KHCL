{
 "cells": [
  {
   "cell_type": "markdown",
   "metadata": {
    "colab_type": "text",
    "id": "view-in-github"
   },
   "source": [
    "<a href=\"https://colab.research.google.com/github/thanhnhan311201/CS112.L21.KHCL/blob/main/TaoBien.ipynb\" target=\"_parent\"><img src=\"https://colab.research.google.com/assets/colab-badge.svg\" alt=\"Open In Colab\"/></a>"
   ]
  },
  {
   "cell_type": "markdown",
   "metadata": {
    "id": "2K8sN2xB07Z5"
   },
   "source": [
    "# Tên bài: Tảo biển\n",
    "# Link: https://khmt.uit.edu.vn/wecode/cs112.2021/assignment/2/3\n",
    "# Đề bài: \n",
    "Tảo biển sinh sản rất nhanh khi có môi trường thuận lợi với chúng và có những loài còn tiết ra môi trường những chất độc hại.\n",
    "\n",
    "Một loại tảo nâu trong môi trường nước bị ô nhiễm nặng sinh sản theo quy luật sau:\n",
    "- Ngày đầu tiên (ngày 0) có **n** cá thể ở mức 1,\n",
    "- Ở mỗi ngày tiếp theo, mỗi cá thể mức **i** sinh ra **i** cá thể mức 1, các cá thể mới sinh sẽ sinh sôi, phát triển từ ngày hôm sau.\n",
    "- Bản thân các cá thể mức **i** phát triển thành mức **i**+1 và chu kỳ phát triển trong ngày chấm dứt.\n",
    "\n",
    "Hãy xác định sau **k** ngày trong nước biển có bao nhiêu cá thể. \n",
    "\n",
    "**Dữ liệu:** Vào từ thiết bị nhập chuẩn gồm một dòng chứa 2 số nguyên **n** và **k** (1 ≤ **n** ≤ 1000, 1 ≤ **k** ≤ 10^17).\n",
    "\n",
    "**Kết quả:** Đưa ra thiết bị xuất chuẩn một số nguyên – số lượng cá thể  tảo theo mô đun 10^9+7.\n",
    "\n",
    "# Abstraction:\n",
    "Tính n*F(2k+1) theo mô đun 10^9 +7, với hàm F(x) là hàm tính số Fibonacci.\n",
    "\n",
    "# Pattern Recognition:\n",
    "Sử dụng kĩ thuật quy hoạch động để tính fibonacci.\n",
    "\n",
    "# Algorithm Designed:\n",
    "modulo is equal 10^9+7\n",
    "\n",
    "Function Modulo_Fibonacci(k) return a value\n",
    "\n",
    "    if k is smaller than or equal to 2 then return 1\n",
    "\n",
    "    fp is equal to 1\n",
    "\n",
    "    f is equal to 1\n",
    "\n",
    "    loop in range from 3 to k+1, do\n",
    "        \n",
    "        fm is equal to (fp plus f) divide by modulo\n",
    "\n",
    "        fp is equal f\n",
    "\n",
    "        f is equal fm\n",
    "\n",
    "        end\n",
    "\n",
    "    end\n",
    "\n",
    "result of problem is equal to (n multiply the value of function Modulo_Fibonacci) divide by modulo\n",
    "    \n",
    "\n",
    "# Time Complexity: O(n)\n"
   ]
  },
  {
   "cell_type": "code",
   "execution_count": 1,
   "metadata": {},
   "outputs": [
    {
     "name": "stdout",
     "output_type": "stream",
     "text": [
      "15\n"
     ]
    }
   ],
   "source": [
    "modulo = 10**9+7\n",
    "\n",
    "def Modulo_Fibonaci(k):\n",
    "\tif k <=2:\n",
    "\t\treturn 1\n",
    "\tfp = 1\n",
    "\tf = 1\n",
    "\tfor i in range(3, k+1):\n",
    "\t\tfm = (fp + f)%modulo\n",
    "\t\tfp = f\n",
    "\t\tf = fm \n",
    "\treturn fm\n",
    "\n",
    "n,k = list(map(int,input().split()))\n",
    "print((n*Modulo_Fibonaci(2*k+1))%modulo)"
   ]
  }
 ],
 "metadata": {
  "colab": {
   "authorship_tag": "ABX9TyNaYc4VnfOdhqpQdyaooYJk",
   "collapsed_sections": [],
   "include_colab_link": true,
   "name": "TaoBien.ipynb",
   "provenance": []
  },
  "kernelspec": {
   "display_name": "Python 3",
   "language": "python",
   "name": "python3"
  },
  "language_info": {
   "codemirror_mode": {
    "name": "ipython",
    "version": 3
   },
   "file_extension": ".py",
   "mimetype": "text/x-python",
   "name": "python",
   "nbconvert_exporter": "python",
   "pygments_lexer": "ipython3",
   "version": "3.7.9"
  },
  "metadata": {
   "interpreter": {
    "hash": "aee8b7b246df8f9039afb4144a1f6fd8d2ca17a180786b69acc140d282b71a49"
   }
  }
 },
 "nbformat": 4,
 "nbformat_minor": 1
}
